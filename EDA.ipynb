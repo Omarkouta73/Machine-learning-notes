{
 "cells": [
  {
   "cell_type": "markdown",
   "id": "177beb88",
   "metadata": {},
   "source": [
    "plt.style.use(\"ggplot)"
   ]
  },
  {
   "cell_type": "markdown",
   "id": "ee00f074",
   "metadata": {},
   "source": [
    "Data understanding :\n",
    "    1- df.columns\n",
    "    2- df.describe\n",
    "    3- df.info"
   ]
  },
  {
   "cell_type": "markdown",
   "id": "4f94568e",
   "metadata": {},
   "source": [
    "Data preperation : \n",
    "    1- Dropping irrelevant columns and rows\n",
    "    2- identifying duplicated columns\n",
    "    3- Renaming columns\n",
    "    4- Feature creation"
   ]
  },
  {
   "cell_type": "markdown",
   "id": "874c497c",
   "metadata": {},
   "source": [
    "Feature understanding : distirbutions -> 1) histogram : values counts 2) kde 3) box plot"
   ]
  },
  {
   "cell_type": "markdown",
   "id": "c48c5ba7",
   "metadata": {},
   "source": [
    "Feature relationship :\n",
    "1- scatter plots\n",
    "2- heatmap\n",
    "3- pairplot : sns.pairplot(df, vars=[...])"
   ]
  },
  {
   "cell_type": "code",
   "execution_count": null,
   "id": "2eebd9e3",
   "metadata": {},
   "outputs": [],
   "source": []
  }
 ],
 "metadata": {
  "kernelspec": {
   "display_name": "Python 3 (ipykernel)",
   "language": "python",
   "name": "python3"
  },
  "language_info": {
   "codemirror_mode": {
    "name": "ipython",
    "version": 3
   },
   "file_extension": ".py",
   "mimetype": "text/x-python",
   "name": "python",
   "nbconvert_exporter": "python",
   "pygments_lexer": "ipython3",
   "version": "3.9.13"
  }
 },
 "nbformat": 4,
 "nbformat_minor": 5
}
